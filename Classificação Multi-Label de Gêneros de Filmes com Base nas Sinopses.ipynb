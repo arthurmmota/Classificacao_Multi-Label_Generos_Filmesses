{
 "cells": [
  {
   "cell_type": "markdown",
   "id": "7a5ab2c7-b91f-4a88-b28c-8e0de8835ece",
   "metadata": {},
   "source": [
    "### Classificação Multi-Label de Gêneros de Filmes com Base nas Sinopses\n",
    "### ------------------------------------------------------------------------------\n",
    "\n",
    "### Este notebook foi criado por Arthur de Moura Mota. [LinkedIn](https://www.linkedin.com/in/arthur-de-moura-mota/).\n",
    "\n",
    "### ------------------------------------------------------------------------------\n",
    "### Este notebook realiza:\n",
    "### 1. Leitura e análise exploratória dos dados\n",
    "### 2. Pré-processamento do texto das sinopses\n",
    "### 3. Treinamento de um modelo de classificação multi-label\n",
    "### 4. Avaliação do modelo\n",
    "### 5. Implementação de um pipeline para predição"
   ]
  },
  {
   "cell_type": "markdown",
   "id": "fe1c6fba-9d1c-4729-949a-e9323a903de1",
   "metadata": {},
   "source": [
    "### -----------------------------------------\n",
    "### 1. Importação das Bibliotecas Necessárias"
   ]
  },
  {
   "cell_type": "code",
   "execution_count": 53,
   "id": "1a98ccc0-7e9a-4d81-a4c6-e9066b9278a8",
   "metadata": {},
   "outputs": [
    {
     "name": "stdout",
     "output_type": "stream",
     "text": [
      "Requirement already satisfied: pandas in c:\\users\\arthu\\appdata\\local\\programs\\python\\python312\\lib\\site-packages (2.2.2)\n",
      "Requirement already satisfied: scikit-learn in c:\\users\\arthu\\appdata\\local\\programs\\python\\python312\\lib\\site-packages (1.6.1)\n",
      "Requirement already satisfied: matplotlib in c:\\users\\arthu\\appdata\\local\\programs\\python\\python312\\lib\\site-packages (3.10.1)\n",
      "Requirement already satisfied: seaborn in c:\\users\\arthu\\appdata\\local\\programs\\python\\python312\\lib\\site-packages (0.13.2)\n",
      "Requirement already satisfied: nltk in c:\\users\\arthu\\appdata\\local\\programs\\python\\python312\\lib\\site-packages (3.9.1)\n",
      "Requirement already satisfied: tqdm in c:\\users\\arthu\\appdata\\local\\programs\\python\\python312\\lib\\site-packages (4.67.1)\n",
      "Collecting ipywidgets\n",
      "  Downloading ipywidgets-8.1.5-py3-none-any.whl.metadata (2.3 kB)\n",
      "Requirement already satisfied: numpy>=1.26.0 in c:\\users\\arthu\\appdata\\local\\programs\\python\\python312\\lib\\site-packages (from pandas) (1.26.4)\n",
      "Requirement already satisfied: python-dateutil>=2.8.2 in c:\\users\\arthu\\appdata\\local\\programs\\python\\python312\\lib\\site-packages (from pandas) (2.9.0.post0)\n",
      "Requirement already satisfied: pytz>=2020.1 in c:\\users\\arthu\\appdata\\local\\programs\\python\\python312\\lib\\site-packages (from pandas) (2024.1)\n",
      "Requirement already satisfied: tzdata>=2022.7 in c:\\users\\arthu\\appdata\\local\\programs\\python\\python312\\lib\\site-packages (from pandas) (2024.1)\n",
      "Requirement already satisfied: scipy>=1.6.0 in c:\\users\\arthu\\appdata\\local\\programs\\python\\python312\\lib\\site-packages (from scikit-learn) (1.15.2)\n",
      "Requirement already satisfied: joblib>=1.2.0 in c:\\users\\arthu\\appdata\\local\\programs\\python\\python312\\lib\\site-packages (from scikit-learn) (1.4.2)\n",
      "Requirement already satisfied: threadpoolctl>=3.1.0 in c:\\users\\arthu\\appdata\\local\\programs\\python\\python312\\lib\\site-packages (from scikit-learn) (3.6.0)\n",
      "Requirement already satisfied: contourpy>=1.0.1 in c:\\users\\arthu\\appdata\\local\\programs\\python\\python312\\lib\\site-packages (from matplotlib) (1.3.1)\n",
      "Requirement already satisfied: cycler>=0.10 in c:\\users\\arthu\\appdata\\local\\programs\\python\\python312\\lib\\site-packages (from matplotlib) (0.12.1)\n",
      "Requirement already satisfied: fonttools>=4.22.0 in c:\\users\\arthu\\appdata\\local\\programs\\python\\python312\\lib\\site-packages (from matplotlib) (4.56.0)\n",
      "Requirement already satisfied: kiwisolver>=1.3.1 in c:\\users\\arthu\\appdata\\local\\programs\\python\\python312\\lib\\site-packages (from matplotlib) (1.4.8)\n",
      "Requirement already satisfied: packaging>=20.0 in c:\\users\\arthu\\appdata\\local\\programs\\python\\python312\\lib\\site-packages (from matplotlib) (24.0)\n",
      "Requirement already satisfied: pillow>=8 in c:\\users\\arthu\\appdata\\local\\programs\\python\\python312\\lib\\site-packages (from matplotlib) (11.1.0)\n",
      "Requirement already satisfied: pyparsing>=2.3.1 in c:\\users\\arthu\\appdata\\local\\programs\\python\\python312\\lib\\site-packages (from matplotlib) (3.2.3)\n",
      "Requirement already satisfied: click in c:\\users\\arthu\\appdata\\local\\programs\\python\\python312\\lib\\site-packages (from nltk) (8.1.7)\n",
      "Requirement already satisfied: regex>=2021.8.3 in c:\\users\\arthu\\appdata\\local\\programs\\python\\python312\\lib\\site-packages (from nltk) (2024.11.6)\n",
      "Requirement already satisfied: colorama in c:\\users\\arthu\\appdata\\local\\programs\\python\\python312\\lib\\site-packages (from tqdm) (0.4.6)\n",
      "Requirement already satisfied: comm>=0.1.3 in c:\\users\\arthu\\appdata\\local\\programs\\python\\python312\\lib\\site-packages (from ipywidgets) (0.2.2)\n",
      "Requirement already satisfied: ipython>=6.1.0 in c:\\users\\arthu\\appdata\\local\\programs\\python\\python312\\lib\\site-packages (from ipywidgets) (9.0.2)\n",
      "Requirement already satisfied: traitlets>=4.3.1 in c:\\users\\arthu\\appdata\\local\\programs\\python\\python312\\lib\\site-packages (from ipywidgets) (5.14.3)\n",
      "Collecting widgetsnbextension~=4.0.12 (from ipywidgets)\n",
      "  Downloading widgetsnbextension-4.0.13-py3-none-any.whl.metadata (1.6 kB)\n",
      "Collecting jupyterlab-widgets~=3.0.12 (from ipywidgets)\n",
      "  Downloading jupyterlab_widgets-3.0.13-py3-none-any.whl.metadata (4.1 kB)\n",
      "Requirement already satisfied: decorator in c:\\users\\arthu\\appdata\\local\\programs\\python\\python312\\lib\\site-packages (from ipython>=6.1.0->ipywidgets) (5.2.1)\n",
      "Requirement already satisfied: ipython-pygments-lexers in c:\\users\\arthu\\appdata\\local\\programs\\python\\python312\\lib\\site-packages (from ipython>=6.1.0->ipywidgets) (1.1.1)\n",
      "Requirement already satisfied: jedi>=0.16 in c:\\users\\arthu\\appdata\\local\\programs\\python\\python312\\lib\\site-packages (from ipython>=6.1.0->ipywidgets) (0.19.2)\n",
      "Requirement already satisfied: matplotlib-inline in c:\\users\\arthu\\appdata\\local\\programs\\python\\python312\\lib\\site-packages (from ipython>=6.1.0->ipywidgets) (0.1.7)\n",
      "Requirement already satisfied: prompt_toolkit<3.1.0,>=3.0.41 in c:\\users\\arthu\\appdata\\local\\programs\\python\\python312\\lib\\site-packages (from ipython>=6.1.0->ipywidgets) (3.0.50)\n",
      "Requirement already satisfied: pygments>=2.4.0 in c:\\users\\arthu\\appdata\\local\\programs\\python\\python312\\lib\\site-packages (from ipython>=6.1.0->ipywidgets) (2.18.0)\n",
      "Requirement already satisfied: stack_data in c:\\users\\arthu\\appdata\\local\\programs\\python\\python312\\lib\\site-packages (from ipython>=6.1.0->ipywidgets) (0.6.3)\n",
      "Requirement already satisfied: six>=1.5 in c:\\users\\arthu\\appdata\\local\\programs\\python\\python312\\lib\\site-packages (from python-dateutil>=2.8.2->pandas) (1.16.0)\n",
      "Requirement already satisfied: parso<0.9.0,>=0.8.4 in c:\\users\\arthu\\appdata\\local\\programs\\python\\python312\\lib\\site-packages (from jedi>=0.16->ipython>=6.1.0->ipywidgets) (0.8.4)\n",
      "Requirement already satisfied: wcwidth in c:\\users\\arthu\\appdata\\local\\programs\\python\\python312\\lib\\site-packages (from prompt_toolkit<3.1.0,>=3.0.41->ipython>=6.1.0->ipywidgets) (0.2.13)\n",
      "Requirement already satisfied: executing>=1.2.0 in c:\\users\\arthu\\appdata\\local\\programs\\python\\python312\\lib\\site-packages (from stack_data->ipython>=6.1.0->ipywidgets) (2.2.0)\n",
      "Requirement already satisfied: asttokens>=2.1.0 in c:\\users\\arthu\\appdata\\local\\programs\\python\\python312\\lib\\site-packages (from stack_data->ipython>=6.1.0->ipywidgets) (3.0.0)\n",
      "Requirement already satisfied: pure-eval in c:\\users\\arthu\\appdata\\local\\programs\\python\\python312\\lib\\site-packages (from stack_data->ipython>=6.1.0->ipywidgets) (0.2.3)\n",
      "Downloading ipywidgets-8.1.5-py3-none-any.whl (139 kB)\n",
      "   ---------------------------------------- 0.0/139.8 kB ? eta -:--:--\n",
      "   -- ------------------------------------- 10.2/139.8 kB ? eta -:--:--\n",
      "   -------- ------------------------------ 30.7/139.8 kB 435.7 kB/s eta 0:00:01\n",
      "   ----------------- --------------------- 61.4/139.8 kB 544.7 kB/s eta 0:00:01\n",
      "   -------------------------------------- - 133.1/139.8 kB 1.1 MB/s eta 0:00:01\n",
      "   -------------------------------------- 139.8/139.8 kB 918.6 kB/s eta 0:00:00\n",
      "Downloading jupyterlab_widgets-3.0.13-py3-none-any.whl (214 kB)\n",
      "   ---------------------------------------- 0.0/214.4 kB ? eta -:--:--\n",
      "   -------------------------------------- - 204.8/214.4 kB 6.3 MB/s eta 0:00:01\n",
      "   ---------------------------------------- 214.4/214.4 kB 4.3 MB/s eta 0:00:00\n",
      "Downloading widgetsnbextension-4.0.13-py3-none-any.whl (2.3 MB)\n",
      "   ---------------------------------------- 0.0/2.3 MB ? eta -:--:--\n",
      "   -------- ------------------------------- 0.5/2.3 MB 16.5 MB/s eta 0:00:01\n",
      "   -------------------- ------------------- 1.2/2.3 MB 15.4 MB/s eta 0:00:01\n",
      "   ---------------------------------------- 2.3/2.3 MB 18.6 MB/s eta 0:00:00\n",
      "Installing collected packages: widgetsnbextension, jupyterlab-widgets, ipywidgets\n",
      "Successfully installed ipywidgets-8.1.5 jupyterlab-widgets-3.0.13 widgetsnbextension-4.0.13\n",
      "Note: you may need to restart the kernel to use updated packages.\n"
     ]
    },
    {
     "name": "stderr",
     "output_type": "stream",
     "text": [
      "\n",
      "[notice] A new release of pip is available: 24.0 -> 25.0.1\n",
      "[notice] To update, run: python.exe -m pip install --upgrade pip\n"
     ]
    }
   ],
   "source": [
    "pip install pandas scikit-learn matplotlib seaborn nltk tqdm ipywidgets\n"
   ]
  },
  {
   "cell_type": "code",
   "execution_count": 36,
   "id": "708cc72f",
   "metadata": {
    "scrolled": true
   },
   "outputs": [
    {
     "name": "stderr",
     "output_type": "stream",
     "text": [
      "[nltk_data] Downloading package punkt to\n",
      "[nltk_data]     C:\\Users\\arthu\\AppData\\Roaming\\nltk_data...\n",
      "[nltk_data]   Package punkt is already up-to-date!\n",
      "[nltk_data] Downloading package punkt_tab to\n",
      "[nltk_data]     C:\\Users\\arthu\\AppData\\Roaming\\nltk_data...\n",
      "[nltk_data]   Package punkt_tab is already up-to-date!\n",
      "[nltk_data] Downloading package stopwords to\n",
      "[nltk_data]     C:\\Users\\arthu\\AppData\\Roaming\\nltk_data...\n",
      "[nltk_data]   Package stopwords is already up-to-date!\n"
     ]
    }
   ],
   "source": [
    "import json\n",
    "import random\n",
    "import pandas as pd\n",
    "\n",
    "from sklearn.feature_extraction.text import TfidfVectorizer\n",
    "\n",
    "# Configuração para exibir todas as colunas do DataFrame\n",
    "pd.set_option('display.max_columns', None)\n",
    "pd.set_option('display.width', 1000)\n",
    "\n",
    "from sklearn.model_selection import train_test_split\n",
    "\n",
    "from sklearn.metrics import precision_score, recall_score, f1_score, hamming_loss, jaccard_score, roc_auc_score, average_precision_score, log_loss, accuracy_score\n",
    "\n",
    "\n",
    "import matplotlib.pyplot as plt\n",
    "import seaborn as sns\n",
    "import re\n",
    "import nltk\n",
    "from nltk.corpus import stopwords\n",
    "\n",
    "from nltk.stem import PorterStemmer\n",
    "nltk.download('punkt')\n",
    "nltk.download('punkt_tab')\n",
    "nltk.download('stopwords')\n",
    "\n",
    "from sklearn.preprocessing import MultiLabelBinarizer\n",
    "from sklearn.linear_model import LogisticRegression\n",
    "from sklearn.multiclass import OneVsRestClassifier\n",
    "from tqdm import tqdm\n",
    "tqdm.pandas(dynamic_ncols=True)"
   ]
  },
  {
   "cell_type": "markdown",
   "id": "bffc7112-0c12-4df0-a410-943d7785629b",
   "metadata": {},
   "source": [
    "### ------------------------------------------------------------------------------\n",
    "### 2. Carregamento dos Dados e Limpeza inicial"
   ]
  },
  {
   "cell_type": "code",
   "execution_count": 6,
   "id": "5f5f1d37-912c-4dae-a607-279f2ec2f7eb",
   "metadata": {},
   "outputs": [],
   "source": [
    "# Carregar os dados\n",
    "metadata = pd.read_csv('movie.metadata.tsv', sep='\\t', header=None, names=[\n",
    "    'movie_id', 'freebase_movie_id', 'title', 'release_date', 'box_office', 'runtime',\n",
    "    'languages', 'countries', 'genres'\n",
    "])\n",
    "plot_summaries = pd.read_csv('plot_summaries.txt', sep='\\t', header=None, names=['movie_id', 'summary'])"
   ]
  },
  {
   "cell_type": "code",
   "execution_count": 9,
   "id": "8d2f2498-471d-4d24-bffe-30f5ebd1e822",
   "metadata": {
    "scrolled": true
   },
   "outputs": [
    {
     "name": "stdout",
     "output_type": "stream",
     "text": [
      "(42204, 4)\n"
     ]
    }
   ],
   "source": [
    "# Limpeza dos gêneros\n",
    "metadata['genres_str'] = metadata['genres'].apply(lambda x: ', '.join(x) if isinstance(x, list) else '')\n",
    "\n",
    "#Realizando o merge com 'left' para manter todos os filmes de 'metadata'\n",
    "data = pd.merge(metadata[['movie_id','title','genres']],plot_summaries, on='movie_id')\n",
    "data['genres']= data['genres'].astype(str)\n",
    "data['genres'] = data['genres'].apply(lambda x: list(json.loads(x).values()))\n",
    "print(data.shape)"
   ]
  },
  {
   "cell_type": "markdown",
   "id": "7f61867c-3b99-468d-b66f-faa46c9433a0",
   "metadata": {},
   "source": [
    "Foi realizada a limpeza da coluna de gêneros, convertendo listas de gêneros em strings. Em seguida, foi feito um merge entre as tabelas metadata e plot_summaries para combinar informações dos filmes, mantendo todos os filmes de metadata. \n",
    "Por fim, a coluna de gêneros foi processada para voltar a ser uma lista de gêneros.\n",
    "O resultado foi uma tabela unificada com as informações dos filmes.\n",
    "\n",
    "Resultado: O DataFrame data foi gerado com as colunas movie_id, title e genres"
   ]
  },
  {
   "cell_type": "markdown",
   "id": "0c5c6ff9-e0b5-469b-bea6-1ceeac923e0f",
   "metadata": {},
   "source": [
    "### ------------------------------------------------------------------------------\n",
    "### 3. Análise Exploratória dos Dados e Limpeza"
   ]
  },
  {
   "cell_type": "code",
   "execution_count": 51,
   "id": "706abe36-23aa-4ddd-9974-4cc69c080976",
   "metadata": {},
   "outputs": [
    {
     "name": "stdout",
     "output_type": "stream",
     "text": [
      "\n",
      "Número de filmes após o merge: 41538\n",
      "Contagem de valores nulos em 'summary' após o merge: 0\n",
      "Informações de metadata:\n",
      "<class 'pandas.core.frame.DataFrame'>\n",
      "RangeIndex: 81741 entries, 0 to 81740\n",
      "Data columns (total 10 columns):\n",
      " #   Column             Non-Null Count  Dtype  \n",
      "---  ------             --------------  -----  \n",
      " 0   movie_id           81741 non-null  int64  \n",
      " 1   freebase_movie_id  81741 non-null  object \n",
      " 2   title              81741 non-null  object \n",
      " 3   release_date       74839 non-null  object \n",
      " 4   box_office         8401 non-null   float64\n",
      " 5   runtime            61291 non-null  float64\n",
      " 6   languages          81741 non-null  object \n",
      " 7   countries          81741 non-null  object \n",
      " 8   genres             81741 non-null  object \n",
      " 9   genres_str         81741 non-null  object \n",
      "dtypes: float64(2), int64(1), object(7)\n",
      "memory usage: 6.2+ MB\n",
      "None\n",
      "           movie_id    box_office       runtime\n",
      "count  8.174100e+04  8.401000e+03  6.129100e+04\n",
      "mean   1.740784e+07  4.799363e+07  1.118192e+02\n",
      "std    1.098791e+07  1.121753e+08  4.360070e+03\n",
      "min    3.300000e+02  1.000000e+04  0.000000e+00\n",
      "25%    7.323695e+06  2.083193e+06  8.100000e+01\n",
      "50%    1.777899e+07  1.063969e+07  9.300000e+01\n",
      "75%    2.715573e+07  4.071696e+07  1.060000e+02\n",
      "max    3.750192e+07  2.782275e+09  1.079281e+06\n",
      "   movie_id freebase_movie_id                                              title release_date  box_office  runtime                           languages                                  countries                                             genres genres_str\n",
      "0    975900         /m/03vyhn                                     Ghosts of Mars   2001-08-24  14010832.0     98.0  {\"/m/02h40lc\": \"English Language\"}  {\"/m/09c7w0\": \"United States of America\"}  {\"/m/01jfsb\": \"Thriller\", \"/m/06n90\": \"Science...           \n",
      "1   3196793         /m/08yl5d  Getting Away with Murder: The JonBenét Ramsey ...   2000-02-16         NaN     95.0  {\"/m/02h40lc\": \"English Language\"}  {\"/m/09c7w0\": \"United States of America\"}  {\"/m/02n4kr\": \"Mystery\", \"/m/03bxz7\": \"Biograp...           \n",
      "2  28463795        /m/0crgdbh                                        Brun bitter         1988         NaN     83.0  {\"/m/05f_3\": \"Norwegian Language\"}                     {\"/m/05b4w\": \"Norway\"}  {\"/m/0lsxr\": \"Crime Fiction\", \"/m/07s9rl0\": \"D...           \n",
      "3   9363483        /m/0285_cd                                   White Of The Eye         1987         NaN    110.0  {\"/m/02h40lc\": \"English Language\"}             {\"/m/07ssc\": \"United Kingdom\"}  {\"/m/01jfsb\": \"Thriller\", \"/m/0glj9q\": \"Erotic...           \n",
      "4    261236         /m/01mrr1                                  A Woman in Flames         1983         NaN    106.0   {\"/m/04306rv\": \"German Language\"}                    {\"/m/0345h\": \"Germany\"}                            {\"/m/07s9rl0\": \"Drama\"}           \n",
      "\n",
      "Informações de plot_summaries:\n",
      "<class 'pandas.core.frame.DataFrame'>\n",
      "RangeIndex: 42303 entries, 0 to 42302\n",
      "Data columns (total 3 columns):\n",
      " #   Column          Non-Null Count  Dtype \n",
      "---  ------          --------------  ----- \n",
      " 0   movie_id        42303 non-null  int64 \n",
      " 1   summary         42303 non-null  object\n",
      " 2   summary_length  42303 non-null  int64 \n",
      "dtypes: int64(2), object(1)\n",
      "memory usage: 991.6+ KB\n",
      "None\n",
      "           movie_id  summary_length\n",
      "count  4.230300e+04    42303.000000\n",
      "mean   1.497051e+07     1784.034229\n",
      "std    1.111994e+07     1808.925536\n",
      "min    3.300000e+02       99.000000\n",
      "25%    4.565802e+06      508.000000\n",
      "50%    1.284591e+07     1079.000000\n",
      "75%    2.485168e+07     2604.500000\n",
      "max    3.750192e+07    28159.000000\n",
      "   movie_id                                            summary  summary_length\n",
      "0  23890098  Shlykov, a hard-working taxi driver and Lyosha...             178\n",
      "1  31186339  The nation of Panem consists of a wealthy Capi...            4559\n",
      "2  20663735  Poovalli Induchoodan  is sentenced for six yea...            3099\n",
      "3   2231378  The Lemon Drop Kid , a New York City swindler,...            4917\n",
      "4    595909  Seventh-day Adventist Church pastor Michael Ch...            2425\n"
     ]
    }
   ],
   "source": [
    "# Analisando o resultado\n",
    "print(f\"\\nNúmero de filmes após o merge: {data.shape[0]}\")\n",
    "print(f\"Contagem de valores nulos em 'summary' após o merge: {data['summary'].isnull().sum()}\")\n",
    "\n",
    "# 1. Análise Exploratória Inicial dos Dados\n",
    "\n",
    "# Informações gerais e valores ausentes\n",
    "print(\"Informações de metadata:\")\n",
    "print(metadata.info())\n",
    "print(metadata.describe())\n",
    "print(metadata.head())\n",
    "print(\"\\nInformações de plot_summaries:\")\n",
    "print(plot_summaries.info())\n",
    "print(plot_summaries.describe())\n",
    "print(plot_summaries.head())\n",
    "\n"
   ]
  },
  {
   "cell_type": "markdown",
   "id": "ccf49598-a76b-4e99-b47b-6628aa005c1f",
   "metadata": {},
   "source": [
    "Foi realizado um exame preliminar dos dados após o merge entre metadata e plot_summaries. O número de filmes foi de 42.204, e não houve valores nulos na coluna summary. Foram exibidas informações gerais sobre as tabelas metadata e plot_summaries, incluindo o número de entradas, tipos de dados e algumas estatísticas descritivas.\n",
    "\n",
    "Resultado: As informações sobre os filmes e as sinopses estão completas, sem valores ausentes."
   ]
  },
  {
   "cell_type": "code",
   "execution_count": 29,
   "id": "2b0cf974-e6f1-4f82-baf8-81f899113be0",
   "metadata": {},
   "outputs": [
    {
     "name": "stdout",
     "output_type": "stream",
     "text": [
      "\n",
      "Frequência dos Gêneros dos Filmes Após Junção:\n",
      "Drama                   19134\n",
      "Comedy                  10467\n",
      "Romance Film             6666\n",
      "Thriller                 6530\n",
      "Action                   5868\n",
      "                        ...  \n",
      "Children's Issues           1\n",
      "Political Documetary        1\n",
      "Linguistics                 1\n",
      "C-Movie                     1\n",
      "Homoeroticism               1\n",
      "Name: count, Length: 362, dtype: int64\n"
     ]
    }
   ],
   "source": [
    "\n",
    "# Gêneros mais frequentes após merge\n",
    "all_genres_after_merge = [genre for sublist in data['genres'] for genre in sublist]\n",
    "\n",
    "genre_frequency_after_merge = pd.Series(all_genres_after_merge).value_counts()\n",
    "\n",
    "print(\"\\nFrequência dos Gêneros dos Filmes Após Junção:\")\n",
    "print(genre_frequency_after_merge)\n"
   ]
  },
  {
   "cell_type": "code",
   "execution_count": null,
   "id": "45bd3f75-b606-4649-9c3f-e3181379be29",
   "metadata": {},
   "outputs": [],
   "source": [
    "Foi realizada uma análise sobre os gêneros mais frequentes após o merge dos dados. \n",
    "A partir da lista de gêneros dos filmes, foi gerada uma contagem de cada gênero, evidenciando a prevalência dos gêneros mais comuns,\n",
    "como \"Drama\", \"Comedy\" e \"Romance Film\", além da presença de muitos gêneros menos frequentes."
   ]
  },
  {
   "cell_type": "code",
   "execution_count": 17,
   "id": "b2da00b7-ea80-4cde-aebc-621de9ead4d5",
   "metadata": {},
   "outputs": [
    {
     "name": "stdout",
     "output_type": "stream",
     "text": [
      "\n",
      "Valores nulos nos dados de metadata:\n",
      "movie_id                 0\n",
      "freebase_movie_id        0\n",
      "title                    0\n",
      "release_date          6902\n",
      "box_office           73340\n",
      "runtime              20450\n",
      "languages                0\n",
      "countries                0\n",
      "genres                   0\n",
      "genres_str               0\n",
      "dtype: int64\n",
      "\n",
      "Valores nulos nos dados de plot_summaries:\n",
      "movie_id    0\n",
      "summary     0\n",
      "dtype: int64\n",
      "\n",
      "Duplicatas nos dados de metadata: 0\n",
      "\n",
      "Duplicatas nos dados de plot_summaries: 0\n"
     ]
    }
   ],
   "source": [
    "# Verificando valores nulos\n",
    "metadata_nulls = metadata.isnull().sum()\n",
    "plot_summaries_nulls = plot_summaries.isnull().sum()\n",
    "\n",
    "print(f'\\nValores nulos nos dados de metadata:\\n{metadata_nulls}')\n",
    "print(f'\\nValores nulos nos dados de plot_summaries:\\n{plot_summaries_nulls}')\n",
    "\n",
    "# Verificando duplicatas\n",
    "metadata_duplicates = metadata.duplicated(subset=['movie_id', 'genres_str']).sum()\n",
    "plot_summaries_duplicates = plot_summaries.duplicated().sum()\n",
    "\n",
    "print(f'\\nDuplicatas nos dados de metadata: {metadata_duplicates}')\n",
    "print(f'\\nDuplicatas nos dados de plot_summaries: {plot_summaries_duplicates}')\n",
    "\n",
    "\n",
    "\n",
    "\n"
   ]
  },
  {
   "cell_type": "markdown",
   "id": "f483cf00-aa0b-446c-9fb8-4066d09875d9",
   "metadata": {},
   "source": [
    "Foi realizada uma verificação nos dados para identificar valores nulos e duplicatas.\n",
    "\n",
    "    Valores nulos:\n",
    "\n",
    "        O conjunto de dados metadata apresenta valores nulos em algumas colunas como release_date, box_office e runtime.\n",
    "\n",
    "        O conjunto plot_summaries não apresenta valores nulos, garantindo que todas as sinopses estão completas.\n",
    "\n",
    "    Duplicatas:\n",
    "\n",
    "        Não foram encontradas duplicatas nos dados de metadata e plot_summaries, garantindo a integridade dos registros."
   ]
  },
  {
   "cell_type": "code",
   "execution_count": 18,
   "id": "eca92394-9916-43f0-9491-efd6717ce483",
   "metadata": {},
   "outputs": [
    {
     "name": "stdout",
     "output_type": "stream",
     "text": [
      "\n",
      "Número de filmes em 'metadata' que não possuem resumo em 'plot_summaries': 39537\n",
      "Número de filmes em 'plot_summaries' que não possuem entrada em 'metadata': 99\n",
      "\n",
      "Exemplos de filmes em 'metadata' sem resumo:\n",
      "   movie_id                                              title\n",
      "1   3196793  Getting Away with Murder: The JonBenét Ramsey ...\n",
      "2  28463795                                        Brun bitter\n",
      "5  13696889                                      The Gangsters\n",
      "7  10408933                           Alexander's Ragtime Band\n",
      "8   9997961                                     Contigo y aquí\n",
      "\n",
      "Exemplos de filmes em 'plot_summaries' sem dados de 'metadata':\n",
      "      movie_id                                            summary\n",
      "231    2862137  Sathyanarayan Murthy  is a rough but kind man ...\n",
      "540   33334420  {{more plot}} Mural tells the story of Zhu Xia...\n",
      "1071  16758721  The story is about a young man “Tony”, a 25 ye...\n",
      "1449  23217064   Years before the events of the first film, Lo...\n",
      "2083   2746943  A young 16-year-old girl, Zhu Ying Tai, manage...\n"
     ]
    }
   ],
   "source": [
    "# Análise de Consistência de 'movie_id' entre os DataFrames\n",
    "\n",
    "# Verificar se todos os movie_id de metadata estão em plot_summaries\n",
    "metadata_not_in_plots = metadata[~metadata['movie_id'].isin(plot_summaries['movie_id'])]\n",
    "# Verificar se todos os movie_id de plot_summaries estão em metadata\n",
    "plots_not_in_metadata = plot_summaries[~plot_summaries['movie_id'].isin(metadata['movie_id'])]\n",
    "\n",
    "# Exibir as análises\n",
    "print(f\"\\nNúmero de filmes em 'metadata' que não possuem resumo em 'plot_summaries': {metadata_not_in_plots.shape[0]}\")\n",
    "print(f\"Número de filmes em 'plot_summaries' que não possuem entrada em 'metadata': {plots_not_in_metadata.shape[0]}\")\n",
    "\n",
    "# Exibir alguns exemplos de filmes que não possuem correspondência\n",
    "print(\"\\nExemplos de filmes em 'metadata' sem resumo:\")\n",
    "print(metadata_not_in_plots[['movie_id', 'title']].head())\n",
    "\n",
    "print(\"\\nExemplos de filmes em 'plot_summaries' sem dados de 'metadata':\")\n",
    "print(plots_not_in_metadata[['movie_id', 'summary']].head())"
   ]
  },
  {
   "cell_type": "markdown",
   "id": "a8f9f39b-7b92-498e-bb10-a7b80ad47f9a",
   "metadata": {},
   "source": [
    "Foi realizada uma análise para verificar a consistência dos movie_id entre os DataFrames metadata e plot_summaries.\n",
    "\n",
    "    Filmes em 'metadata' sem resumo: Existem 39.537 filmes em metadata que não possuem correspondência no plot_summaries, ou seja, não têm uma sinopse associada.\n",
    "\n",
    "    Filmes em 'plot_summaries' sem entrada em 'metadata': Existem 99 filmes em plot_summaries sem entrada correspondente em metadata.\n",
    "\n",
    "Exemplos de Filmes sem Resumo em plot_summaries:\n",
    "\n",
    "    Filmes como \"Getting Away with Murder: The JonBenét Ramsey\" e \"Brun bitter\" não têm sinopse associada.\n",
    "\n",
    "Exemplos de Filmes sem Entrada em metadata:\n",
    "\n",
    "    Filmes como \"Sathyanarayan Murthy\" e \"Mural\" não têm dados correspondentes em metadata.\n",
    "\n",
    "Essa análise indica que há filmes em metadata sem resumo e alguns filmes com sinopse mas sem informações no metadata."
   ]
  },
  {
   "cell_type": "code",
   "execution_count": 23,
   "id": "78384657-ee23-425d-a71f-ebb729f96d56",
   "metadata": {},
   "outputs": [
    {
     "name": "stdout",
     "output_type": "stream",
     "text": [
      "\n",
      "Distribuição do número de gêneros por filme:\n",
      "1 gênero(s): 8424 filmes\n",
      "2 gênero(s): 7440 filmes\n",
      "3 gênero(s): 7053 filmes\n",
      "4 gênero(s): 6211 filmes\n",
      "5 gênero(s): 4497 filmes\n",
      "6 gênero(s): 3326 filmes\n",
      "7 gênero(s): 2222 filmes\n",
      "8 gênero(s): 1249 filmes\n",
      "9 gênero(s): 725 filmes\n",
      "0 gênero(s): 411 filmes\n",
      "10 gênero(s): 356 filmes\n",
      "11 gênero(s): 166 filmes\n",
      "12 gênero(s): 70 filmes\n",
      "13 gênero(s): 36 filmes\n",
      "14 gênero(s): 11 filmes\n",
      "15 gênero(s): 5 filmes\n",
      "16 gênero(s): 1 filmes\n",
      "17 gênero(s): 1 filmes\n"
     ]
    }
   ],
   "source": [
    "# 2. Distribuição do Número de Gêneros por Filme\n",
    "genre_counts = data['genres'].apply(lambda x: len(x)).value_counts()\n",
    "\n",
    "print(\"\\nDistribuição do número de gêneros por filme:\")\n",
    "for num_genres, count in genre_counts.items():\n",
    "    print(f\"{num_genres} gênero(s): {count} filmes\")\n"
   ]
  },
  {
   "cell_type": "markdown",
   "id": "3d3a1555-8bf9-4c5c-aec6-99c755cc1b67",
   "metadata": {},
   "source": [
    "    A maioria dos filmes tem 1 ou 2 gêneros:\n",
    "\n",
    "        1 gênero: 8.424 filmes\n",
    "\n",
    "        2 gêneros: 7.440 filmes\n",
    "\n",
    "    Há filmes com até 16 gêneros, mas em menor quantidade:\n",
    "\n",
    "        16 gêneros: 1 filme\n",
    "\n",
    "    Apenas 411 filmes não têm gêneros atribuídos.\n",
    "\n",
    "Isso mostra que a maioria dos filmes tem entre 1 a 5 gêneros"
   ]
  },
  {
   "cell_type": "code",
   "execution_count": 24,
   "id": "5d71d068-fb6a-476f-b01d-cd01a1ed2762",
   "metadata": {},
   "outputs": [
    {
     "name": "stdout",
     "output_type": "stream",
     "text": [
      "Drama           19134\n",
      "Comedy          10467\n",
      "Romance Film     6666\n",
      "Thriller         6530\n",
      "Action           5868\n",
      "Name: count, dtype: int64\n",
      "Mediana: 42.00\n",
      "Q1 (25%): 7.00\n",
      "Percentil 80% (Q80): 266.40\n",
      "Média (μ): 415.36\n",
      "Desvio Padrão (σ): 1429.63\n",
      "Limite Mínimo (μ - σ): 266.40\n",
      "\n",
      "Frequência do Top  Gêneros dos Filmes Após Filtro:\n",
      "Drama                 19134\n",
      "Comedy                10467\n",
      "Romance Film           6666\n",
      "Thriller               6530\n",
      "Action                 5868\n",
      "                      ...  \n",
      "Buddy film              325\n",
      "Anime                   305\n",
      "Historical fiction      305\n",
      "Detective               282\n",
      "Road movie              268\n",
      "Name: count, Length: 73, dtype: int64\n",
      "\n",
      "Número de gêneros antes: 363\n",
      "Número de gêneros após filtro: 73\n"
     ]
    },
    {
     "data": {
      "image/png": "[encoded data removed]",
      "text/plain": [
       "<Figure size 1600x2000 with 1 Axes>"
      ]
     },
     "metadata": {},
     "output_type": "display_data"
    }
   ],
   "source": [
    "# 3. Frequência dos Gêneros\n",
    "all_genres = [genre for sublist in data['genres'] for genre in sublist]\n",
    "genre_frequency = pd.Series(all_genres).value_counts()\n",
    "\n",
    "print(genre_frequency.head())\n",
    "\n",
    "# Estatísticas básicas\n",
    "media = genre_frequency.mean()\n",
    "desvio_padrao = genre_frequency.std()\n",
    "\n",
    "# Estatísticas robustas\n",
    "mediana = genre_frequency.median()\n",
    "q1 = genre_frequency.quantile(0.25)\n",
    "\n",
    "# Exibir estatísticas para depuração\n",
    "print(f\"Mediana: {mediana:.2f}\")\n",
    "print(f\"Q1 (25%): {q1:.2f}\")\n",
    "\n",
    "# Calcula o Percentil 80% (Q80)\n",
    "q80 = genre_frequency.quantile(0.80)\n",
    "print(f\"Percentil 80% (Q80): {q80:.2f}\")\n",
    "\n",
    "# Define o limite mínimo \n",
    "limite_minimo = q80\n",
    "\n",
    "print(f\"Média (μ): {media:.2f}\")\n",
    "print(f\"Desvio Padrão (σ): {desvio_padrao:.2f}\")\n",
    "print(f\"Limite Mínimo (μ - σ): {limite_minimo:.2f}\")\n",
    "\n",
    "# Filtrar gêneros acima do limite\n",
    "genre_filtered = genre_frequency[genre_frequency >= limite_minimo]\n",
    "\n",
    "print(f\"\\nFrequência do Top   Gêneros dos Filmes Após Filtro:\")\n",
    "print(genre_filtered)\n",
    "\n",
    "# Número total de gêneros antes e depois do filtro\n",
    "print(f\"\\nNúmero de gêneros antes: {len(genre_frequency)}\")\n",
    "print(f\"Número de gêneros após filtro: {len(genre_filtered)}\")\n",
    "\n",
    "plt.figure(figsize=(16, 20))\n",
    "sns.barplot(x=genre_filtered.values, y=genre_filtered.index, orient='h')\n",
    "plt.title(f'Frequência  dos {len(genre_filtered)} Gêneros dos Filmes')\n",
    "plt.xlabel('Número de Filmes')\n",
    "plt.ylabel('Gêneros')\n",
    "plt.show()"
   ]
  },
  {
   "cell_type": "code",
   "execution_count": 25,
   "id": "45ca5660-8665-4a03-a18a-bc21755b646b",
   "metadata": {},
   "outputs": [
    {
     "name": "stdout",
     "output_type": "stream",
     "text": [
      "Número de filmes antes: 42204\n",
      "Número de filmes após filtro: 41538\n"
     ]
    }
   ],
   "source": [
    "# Converter a lista de gêneros filtrados para um conjunto (mais eficiente para buscas)\n",
    "filtered_genres_set = set(genre_filtered.index)\n",
    "# Exibir quantos filmes restaram após o filtro\n",
    "print(f\"Número de filmes antes: {len(data)}\")\n",
    "# Filtrar DataFrame: manter apenas os filmes com pelo menos um gênero aceito\n",
    "data = data[data['genres'].apply(lambda genres: any(g in filtered_genres_set for g in genres))]\n",
    "print(f\"Número de filmes após filtro: {len(data)}\")"
   ]
  },
  {
   "cell_type": "markdown",
   "id": "2c251ca9-2b69-4cb8-995b-ca83ae5d01b2",
   "metadata": {},
   "source": [
    "Após aplicar o filtro com base no limite mínimo de 266 filmes, obteve-se 73 gêneros mais frequentes (em vez de 363 no total), destacando os gêneros com maior relevância no conjunto de dados.\n",
    "Ao removermos os menos frequêntes, o data set não sofre muito impacto. Essa ação tem o intuito de diminuir o numero de labels e melhorar a eficiência do modelo.\n"
   ]
  },
  {
   "cell_type": "code",
   "execution_count": 27,
   "id": "062dfe63-c6d9-48b4-afe7-8b40cc1d052f",
   "metadata": {
    "scrolled": true
   },
   "outputs": [
    {
     "name": "stdout",
     "output_type": "stream",
     "text": [
      "\n",
      "Distribuição do Número de Gêneros por Filme Após Junção:\n",
      "genres\n",
      "1     8216\n",
      "2     7407\n",
      "3     7045\n",
      "4     6208\n",
      "5     4497\n",
      "6     3324\n",
      "7     2221\n",
      "8     1249\n",
      "9      725\n",
      "10     356\n",
      "11     166\n",
      "12      70\n",
      "13      36\n",
      "14      11\n",
      "15       5\n",
      "16       1\n",
      "17       1\n",
      "Name: count, dtype: int64\n",
      "\n",
      "Distribuição do Número de Gêneros por Filme Após redução menos frequentes:\n",
      "genres\n",
      "1     8216\n",
      "2     7407\n",
      "3     7045\n",
      "4     6208\n",
      "5     4497\n",
      "6     3324\n",
      "7     2221\n",
      "8     1249\n",
      "9      725\n",
      "10     356\n",
      "11     166\n",
      "12      70\n",
      "13      36\n",
      "14      11\n",
      "15       5\n",
      "16       1\n",
      "17       1\n",
      "Name: count, dtype: int64\n"
     ]
    },
    {
     "data": {
      "image/png": "[encoded data removed]",
      "text/plain": [
       "<Figure size 640x480 with 1 Axes>"
      ]
     },
     "metadata": {},
     "output_type": "display_data"
    }
   ],
   "source": [
    "# 7. Análise Final Após Merge / Verificação de Desequilíbrio de Classe\n",
    "# Contando o número de gêneros por filme (agora que 'genres' é uma lista)\n",
    "genre_counts_after_merge = data['genres'].apply(lambda x: len(x)).value_counts()\n",
    "\n",
    "# Exibindo a distribuição do número de gêneros por filme\n",
    "print(\"\\nDistribuição do Número de Gêneros por Filme Após Junção:\")\n",
    "print(genre_counts_after_merge)\n",
    "\n",
    "\n",
    "# Exibindo a distribuição do número de gêneros por filme\n",
    "print(\"\\nDistribuição do Número de Gêneros por Filme Após redução menos frequentes:\")\n",
    "print(genre_counts_after_merge)\n",
    "\n",
    "\n",
    "\n",
    "\n",
    "# # Plotando o gráfico\n",
    "sns.barplot(x=genre_counts_after_merge.index, y=genre_counts_after_merge.values)\n",
    "plt.title('Número de Gêneros por Filme Após Junção')\n",
    "plt.xlabel('Número de Gêneros')\n",
    "plt.ylabel('Contagem')\n",
    "plt.show()"
   ]
  },
  {
   "cell_type": "code",
   "execution_count": 31,
   "id": "8637b889-6119-4c5b-80dc-f8fab6dae5b4",
   "metadata": {
    "scrolled": true
   },
   "outputs": [
    {
     "name": "stdout",
     "output_type": "stream",
     "text": [
      "count    41538.000000\n",
      "mean       312.199408\n",
      "std        318.752287\n",
      "min          4.000000\n",
      "25%         87.000000\n",
      "50%        188.000000\n",
      "75%        457.000000\n",
      "max       4929.000000\n",
      "Name: summary_length, dtype: float64\n"
     ]
    },
    {
     "data": {
      "image/png": "[encoded data removed]",
      "text/plain": [
       "<Figure size 1000x500 with 1 Axes>"
      ]
     },
     "metadata": {},
     "output_type": "display_data"
    }
   ],
   "source": [
    "#Distribuição do Comprimento das Sinopses\n",
    "data['summary_length'] = data['summary'].apply(lambda x: len(x.split()))\n",
    "print(data['summary_length'].describe())\n",
    "\n",
    "plt.figure(figsize=(10, 5))\n",
    "sns.histplot(data['summary_length'], bins=50, kde=True)\n",
    "plt.title('Distribuição do Comprimento das Sinopses')\n",
    "plt.xlabel('Número de Palavras')\n",
    "plt.ylabel('Frequência')\n",
    "plt.show()"
   ]
  },
  {
   "cell_type": "markdown",
   "id": "cc52e7a0-fdf7-47df-a301-9834cf9d6e00",
   "metadata": {},
   "source": [
    "Esses valores indicam uma grande variação no comprimento das sinopses, com algumas extremamente curtas e outras bastante longas, o que pode influenciar na análise e no pré-processamento para modelos de machine learning.\n"
   ]
  },
  {
   "cell_type": "markdown",
   "id": "709c2e61-6bfd-471b-acc1-e59917a70a7d",
   "metadata": {},
   "source": [
    "### 4. Pré-processamento das Sinopses"
   ]
  },
  {
   "cell_type": "code",
   "execution_count": 39,
   "id": "ba664a16-7387-4102-940a-a9630afc5584",
   "metadata": {},
   "outputs": [],
   "source": [
    "# Definir stopwords\n",
    "stop_words = set(stopwords.words('english'))\n",
    "\n",
    "# Objetivo: Remover ruído textual para melhorar a eficiência dos modelos.\n",
    "def preprocess_text(text):\n",
    "    text = text.lower()  # Converte para minúsculas\n",
    "\n",
    "    text = re.sub(r'\\W', ' ', text)  # Remove caracteres especiais\n",
    "    text = re.sub(r'\\s+', ' ', text).strip()  # Remove espaços extras\n",
    "    text = text.split()\n",
    "    # Remove stopwords e retorna apenas as palavras significativas\n",
    "    text = [word for word in text if word not in stop_words]\n",
    "    return ' '.join(text)"
   ]
  },
  {
   "cell_type": "code",
   "execution_count": 40,
   "id": "bb8a6971-9729-44b9-878e-dfb627e63e8f",
   "metadata": {},
   "outputs": [
    {
     "name": "stderr",
     "output_type": "stream",
     "text": [
      "100%|██████████████████████████████████████████████████████████████████████████████████████████████████████████████████████████████| 41538/41538 [00:12<00:00, 3365.17it/s]"
     ]
    },
    {
     "name": "stdout",
     "output_type": "stream",
     "text": [
      "preprocess_text(text) ok\n"
     ]
    },
    {
     "name": "stderr",
     "output_type": "stream",
     "text": [
      "\n"
     ]
    }
   ],
   "source": [
    "# Aplicar o pré-processamento com barra de progresso\n",
    "\n",
    "data['summary_clean'] = data['summary'].progress_apply(preprocess_text)\n",
    "\n",
    "print(\"preprocess_text(text) ok\")"
   ]
  },
  {
   "cell_type": "code",
   "execution_count": 42,
   "id": "f4d3b80f-3747-4ba0-ae36-999b67ab58cf",
   "metadata": {},
   "outputs": [
    {
     "name": "stderr",
     "output_type": "stream",
     "text": [
      "100%|███████████████████████████████████████████████████████████████████████████████████████████████████████████████████████████████| 41538/41538 [02:22<00:00, 291.86it/s]"
     ]
    },
    {
     "name": "stdout",
     "output_type": "stream",
     "text": [
      "plot_stemming ok\n",
      "   movie_id                      title                                             genres                                            summary  summary_length                                      summary_clean\n",
      "0    975900             Ghosts of Mars  [Thriller, Science Fiction, Horror, Adventure,...  Set in the second half of the 22nd century, th...             357  set second half 22nd centuri film depict mar p...\n",
      "1   9363483           White Of The Eye  [Thriller, Erotic thriller, Psychological thri...  A series of murders of rich young women throug...             590  seri murder rich young women throughout arizon...\n",
      "2    261236          A Woman in Flames                                            [Drama]  Eva, an upper class housewife, becomes frustra...             426  eva upper class housewif becom frustrat leav a...\n",
      "3  18998739  The Sorcerer's Apprentice    [Family Film, Fantasy, Adventure, World cinema]  Every hundred years, the evil Morgana  returns...             163  everi hundr year evil morgana return claim fin...\n",
      "4   6631279                Little city  [Romantic comedy, Ensemble Film, Comedy-drama,...  Adam, a San Francisco-based artist who works a...             225  adam san francisco base artist work cab driver...\n"
     ]
    },
    {
     "name": "stderr",
     "output_type": "stream",
     "text": [
      "\n"
     ]
    }
   ],
   "source": [
    "ps = PorterStemmer()\n",
    "\n",
    "def  plot_stemming(text):\n",
    "    text = text.split()\n",
    "    text = [ps.stem(word) for word in text]\n",
    "    text = ' '.join(text)\n",
    "    return text\n",
    "\n",
    "data['summary_clean'] = data['summary_clean'].progress_apply(plot_stemming)\n",
    "print(\"plot_stemming ok\")\n",
    "\n",
    "print(data.head())"
   ]
  },
  {
   "cell_type": "code",
   "execution_count": 43,
   "id": "d41432bf-3e19-4554-aaca-bb173dd12bb4",
   "metadata": {},
   "outputs": [
    {
     "name": "stdout",
     "output_type": "stream",
     "text": [
      "Gêneros: ['Drama']\n",
      "Exemplo Texto Original:\n",
      " 7 Hati follows the story of seven women who are unknowingly interconnected. The lead character, Kartini , is a 45-year-old obstetrician who finds herself increasingly sympathetic with her patients. These patients include Ratna , a hijab-wearing woman who is pregnant for the first time; Rara , Ratna's 14-year-old sister; Yanti , a prostitute; Lili , a pregnant Chinese Indonesian woman; and Lastri , an obese woman. Each character has their own problems, which they confide to Kartini about. Ratna is overworked and has to support her family, without the help of her materialistic husband. Rara is worried that she may be pregnant after having sexual intercourse with her boyfriend. Yanti suffers from cervical cancer. Lili has been sexually abused by her husband, but thinks of it as an indication of his love. Lastri is newly-married and trying to get pregnant. Kartini herself has had bad experiences in her former relationships, making her afraid of commitment.\n",
      "\n",
      "Exemplo Texto Pós-Limpeza:\n",
      " 7 hati follow stori seven women unknowingli interconnect lead charact kartini 45 year old obstetrician find increasingli sympathet patient patient includ ratna hijab wear woman pregnant first time rara ratna 14 year old sister yanti prostitut lili pregnant chines indonesian woman lastri obes woman charact problem confid kartini ratna overwork support famili without help materialist husband rara worri may pregnant sexual intercours boyfriend yanti suffer cervic cancer lili sexual abus husband think indic love lastri newli marri tri get pregnant kartini bad experi former relationship make afraid commit\n"
     ]
    }
   ],
   "source": [
    "# Selecionar uma linha aleatória para verificação\n",
    "random_row = random.choice(range(len(data)))\n",
    "print(f\"Gêneros: {data['genres'].iloc[random_row]}\")\n",
    "print(\"Exemplo Texto Original:\\n\", data['summary'].iloc[random_row])\n",
    "print(\"\\nExemplo Texto Pós-Limpeza:\\n\", data['summary_clean'].iloc[random_row])"
   ]
  },
  {
   "cell_type": "code",
   "execution_count": 44,
   "id": "581b570b-4c3c-44f7-bb35-fdb64fbde306",
   "metadata": {},
   "outputs": [
    {
     "name": "stdout",
     "output_type": "stream",
     "text": [
      "Labels binarizados para classificação multirrótulo.\n",
      "[[0 0 1 ... 0 0 0]\n",
      " [0 0 0 ... 0 0 0]\n",
      " [0 0 0 ... 0 0 0]\n",
      " ...\n",
      " [0 0 0 ... 0 0 0]\n",
      " [0 0 0 ... 0 0 0]\n",
      " [0 0 0 ... 0 0 0]]\n"
     ]
    }
   ],
   "source": [
    "# Binarizar os gêneros (transformar rótulos multilabel em binário)\n",
    "mlb = MultiLabelBinarizer()\n",
    "y = mlb.fit_transform(data['genres'])  # Separando os gêneros\n",
    "X = data['summary_clean']\n",
    "\n",
    "print(\"Labels binarizados para classificação multirrótulo.\")\n",
    "print(y)"
   ]
  },
  {
   "cell_type": "markdown",
   "id": "fbb7b5f3-6df7-47dd-86a0-63a4a3cd8d4b",
   "metadata": {},
   "source": [
    "A binarização dos gêneros é necessária para transformar os rótulos multilabel (vários gêneros por filme) em uma representação binária,\n",
    "onde cada gênero é tratado como uma variável independente.\n",
    "Isso permite que o modelo de classificação multi-label consiga aprender a identificar a presença ou\n",
    "ausência de cada gênero para uma sinopse de filme, facilitando a predição dos múltiplos gêneros de forma eficiente."
   ]
  },
  {
   "cell_type": "markdown",
   "id": "43d39d4d-08d3-4ea3-ad79-ba5c5dd72b1c",
   "metadata": {},
   "source": [
    "### 5. Vetorização e Separação dos Dados"
   ]
  },
  {
   "cell_type": "code",
   "execution_count": 45,
   "id": "180cf2af-c883-414d-a458-1d1f6921b338",
   "metadata": {},
   "outputs": [
    {
     "name": "stdout",
     "output_type": "stream",
     "text": [
      "Transformação TF-IDF concluída.\n"
     ]
    }
   ],
   "source": [
    "X_train, X_test,y_train,y_test = train_test_split(X,y, test_size =0.50, random_state = 42)\n",
    "\n",
    "# Vetorização TF-IDF com 5000 palavras mais frequentes e max_df=0.8\n",
    "tfidf_vectorizer = TfidfVectorizer(max_features=5000, max_df=0.8)\n",
    "X_train = tfidf_vectorizer.fit_transform(X_train)\n",
    "X_test = tfidf_vectorizer.transform(X_test)\n",
    "\n",
    "print(\"Transformação TF-IDF concluída.\")"
   ]
  },
  {
   "cell_type": "markdown",
   "id": "63e3e498-8e1b-4f90-91b4-2e152b7018c8",
   "metadata": {},
   "source": [
    "### 6. Treinamento do Modelo"
   ]
  },
  {
   "cell_type": "code",
   "execution_count": 47,
   "id": "2d38bdc3-330b-4a12-9600-67430f620cc5",
   "metadata": {},
   "outputs": [
    {
     "name": "stdout",
     "output_type": "stream",
     "text": [
      "[LibLinear][LibLinear][LibLinear][LibLinear][LibLinear][LibLinear][LibLinear][LibLinear][LibLinear][LibLinear][LibLinear][LibLinear][LibLinear][LibLinear][LibLinear][LibLinear][LibLinear][LibLinear][LibLinear][LibLinear][LibLinear][LibLinear][LibLinear][LibLinear][LibLinear][LibLinear][LibLinear][LibLinear][LibLinear][LibLinear][LibLinear][LibLinear][LibLinear][LibLinear][LibLinear][LibLinear]"
     ]
    },
    {
     "name": "stderr",
     "output_type": "stream",
     "text": [
      "C:\\Users\\arthu\\AppData\\Local\\Programs\\Python\\Python312\\Lib\\site-packages\\sklearn\\multiclass.py:90: UserWarning: Label not 36 is present in all training examples.\n",
      "  warnings.warn(\n"
     ]
    },
    {
     "name": "stdout",
     "output_type": "stream",
     "text": [
      "[LibLinear][LibLinear][LibLinear][LibLinear][LibLinear][LibLinear][LibLinear][LibLinear][LibLinear][LibLinear][LibLinear]"
     ]
    },
    {
     "name": "stderr",
     "output_type": "stream",
     "text": [
      "C:\\Users\\arthu\\AppData\\Local\\Programs\\Python\\Python312\\Lib\\site-packages\\sklearn\\multiclass.py:90: UserWarning: Label not 48 is present in all training examples.\n",
      "  warnings.warn(\n"
     ]
    },
    {
     "name": "stdout",
     "output_type": "stream",
     "text": [
      "[LibLinear][LibLinear][LibLinear][LibLinear][LibLinear][LibLinear]"
     ]
    },
    {
     "name": "stderr",
     "output_type": "stream",
     "text": [
      "C:\\Users\\arthu\\AppData\\Local\\Programs\\Python\\Python312\\Lib\\site-packages\\sklearn\\multiclass.py:90: UserWarning: Label not 55 is present in all training examples.\n",
      "  warnings.warn(\n",
      "C:\\Users\\arthu\\AppData\\Local\\Programs\\Python\\Python312\\Lib\\site-packages\\sklearn\\multiclass.py:90: UserWarning: Label not 56 is present in all training examples.\n",
      "  warnings.warn(\n"
     ]
    },
    {
     "name": "stdout",
     "output_type": "stream",
     "text": [
      "[LibLinear][LibLinear][LibLinear][LibLinear][LibLinear][LibLinear][LibLinear][LibLinear][LibLinear][LibLinear][LibLinear][LibLinear][LibLinear][LibLinear][LibLinear][LibLinear][LibLinear]"
     ]
    },
    {
     "name": "stderr",
     "output_type": "stream",
     "text": [
      "C:\\Users\\arthu\\AppData\\Local\\Programs\\Python\\Python312\\Lib\\site-packages\\sklearn\\multiclass.py:90: UserWarning: Label not 74 is present in all training examples.\n",
      "  warnings.warn(\n"
     ]
    },
    {
     "name": "stdout",
     "output_type": "stream",
     "text": [
      "[LibLinear][LibLinear][LibLinear][LibLinear][LibLinear][LibLinear][LibLinear][LibLinear][LibLinear][LibLinear][LibLinear][LibLinear][LibLinear][LibLinear][LibLinear][LibLinear][LibLinear][LibLinear][LibLinear][LibLinear][LibLinear][LibLinear][LibLinear][LibLinear][LibLinear][LibLinear][LibLinear][LibLinear][LibLinear][LibLinear][LibLinear][LibLinear][LibLinear][LibLinear][LibLinear][LibLinear][LibLinear][LibLinear][LibLinear][LibLinear][LibLinear][LibLinear][LibLinear][LibLinear][LibLinear][LibLinear][LibLinear][LibLinear][LibLinear][LibLinear][LibLinear][LibLinear][LibLinear][LibLinear][LibLinear][LibLinear][LibLinear]"
     ]
    },
    {
     "name": "stderr",
     "output_type": "stream",
     "text": [
      "C:\\Users\\arthu\\AppData\\Local\\Programs\\Python\\Python312\\Lib\\site-packages\\sklearn\\multiclass.py:90: UserWarning: Label not 132 is present in all training examples.\n",
      "  warnings.warn(\n"
     ]
    },
    {
     "name": "stdout",
     "output_type": "stream",
     "text": [
      "[LibLinear][LibLinear][LibLinear][LibLinear][LibLinear][LibLinear][LibLinear][LibLinear][LibLinear][LibLinear][LibLinear][LibLinear][LibLinear][LibLinear][LibLinear][LibLinear][LibLinear][LibLinear][LibLinear][LibLinear][LibLinear][LibLinear][LibLinear][LibLinear][LibLinear][LibLinear][LibLinear][LibLinear][LibLinear][LibLinear][LibLinear][LibLinear][LibLinear][LibLinear][LibLinear][LibLinear][LibLinear][LibLinear][LibLinear][LibLinear][LibLinear][LibLinear][LibLinear][LibLinear][LibLinear][LibLinear][LibLinear][LibLinear][LibLinear][LibLinear][LibLinear][LibLinear][LibLinear][LibLinear][LibLinear][LibLinear][LibLinear][LibLinear][LibLinear][LibLinear][LibLinear][LibLinear][LibLinear][LibLinear][LibLinear][LibLinear][LibLinear]"
     ]
    },
    {
     "name": "stderr",
     "output_type": "stream",
     "text": [
      "C:\\Users\\arthu\\AppData\\Local\\Programs\\Python\\Python312\\Lib\\site-packages\\sklearn\\multiclass.py:90: UserWarning: Label not 200 is present in all training examples.\n",
      "  warnings.warn(\n"
     ]
    },
    {
     "name": "stdout",
     "output_type": "stream",
     "text": [
      "[LibLinear][LibLinear][LibLinear][LibLinear][LibLinear][LibLinear][LibLinear][LibLinear][LibLinear]"
     ]
    },
    {
     "name": "stderr",
     "output_type": "stream",
     "text": [
      "C:\\Users\\arthu\\AppData\\Local\\Programs\\Python\\Python312\\Lib\\site-packages\\sklearn\\multiclass.py:90: UserWarning: Label not 210 is present in all training examples.\n",
      "  warnings.warn(\n"
     ]
    },
    {
     "name": "stdout",
     "output_type": "stream",
     "text": [
      "[LibLinear][LibLinear][LibLinear]"
     ]
    },
    {
     "name": "stderr",
     "output_type": "stream",
     "text": [
      "C:\\Users\\arthu\\AppData\\Local\\Programs\\Python\\Python312\\Lib\\site-packages\\sklearn\\multiclass.py:90: UserWarning: Label not 214 is present in all training examples.\n",
      "  warnings.warn(\n"
     ]
    },
    {
     "name": "stdout",
     "output_type": "stream",
     "text": [
      "[LibLinear][LibLinear][LibLinear][LibLinear][LibLinear][LibLinear][LibLinear][LibLinear][LibLinear][LibLinear][LibLinear][LibLinear][LibLinear][LibLinear][LibLinear][LibLinear][LibLinear][LibLinear][LibLinear][LibLinear][LibLinear][LibLinear][LibLinear][LibLinear][LibLinear][LibLinear]"
     ]
    },
    {
     "name": "stderr",
     "output_type": "stream",
     "text": [
      "C:\\Users\\arthu\\AppData\\Local\\Programs\\Python\\Python312\\Lib\\site-packages\\sklearn\\multiclass.py:90: UserWarning: Label not 241 is present in all training examples.\n",
      "  warnings.warn(\n"
     ]
    },
    {
     "name": "stdout",
     "output_type": "stream",
     "text": [
      "[LibLinear][LibLinear][LibLinear][LibLinear][LibLinear][LibLinear][LibLinear][LibLinear][LibLinear][LibLinear][LibLinear][LibLinear][LibLinear][LibLinear][LibLinear][LibLinear][LibLinear][LibLinear][LibLinear][LibLinear][LibLinear][LibLinear][LibLinear][LibLinear][LibLinear][LibLinear]"
     ]
    },
    {
     "name": "stderr",
     "output_type": "stream",
     "text": [
      "C:\\Users\\arthu\\AppData\\Local\\Programs\\Python\\Python312\\Lib\\site-packages\\sklearn\\multiclass.py:90: UserWarning: Label not 268 is present in all training examples.\n",
      "  warnings.warn(\n"
     ]
    },
    {
     "name": "stdout",
     "output_type": "stream",
     "text": [
      "[LibLinear][LibLinear][LibLinear][LibLinear][LibLinear][LibLinear][LibLinear][LibLinear][LibLinear][LibLinear][LibLinear][LibLinear][LibLinear][LibLinear][LibLinear][LibLinear][LibLinear][LibLinear][LibLinear][LibLinear][LibLinear][LibLinear][LibLinear][LibLinear][LibLinear][LibLinear][LibLinear][LibLinear][LibLinear][LibLinear][LibLinear][LibLinear][LibLinear][LibLinear][LibLinear][LibLinear][LibLinear]"
     ]
    },
    {
     "name": "stderr",
     "output_type": "stream",
     "text": [
      "C:\\Users\\arthu\\AppData\\Local\\Programs\\Python\\Python312\\Lib\\site-packages\\sklearn\\multiclass.py:90: UserWarning: Label not 306 is present in all training examples.\n",
      "  warnings.warn(\n"
     ]
    },
    {
     "name": "stdout",
     "output_type": "stream",
     "text": [
      "[LibLinear][LibLinear][LibLinear][LibLinear][LibLinear][LibLinear][LibLinear][LibLinear][LibLinear][LibLinear][LibLinear][LibLinear][LibLinear][LibLinear][LibLinear][LibLinear][LibLinear][LibLinear][LibLinear][LibLinear][LibLinear][LibLinear][LibLinear][LibLinear][LibLinear][LibLinear][LibLinear][LibLinear][LibLinear][LibLinear][LibLinear][LibLinear][LibLinear][LibLinear]"
     ]
    },
    {
     "name": "stderr",
     "output_type": "stream",
     "text": [
      "C:\\Users\\arthu\\AppData\\Local\\Programs\\Python\\Python312\\Lib\\site-packages\\sklearn\\multiclass.py:90: UserWarning: Label not 341 is present in all training examples.\n",
      "  warnings.warn(\n"
     ]
    },
    {
     "name": "stdout",
     "output_type": "stream",
     "text": [
      "[LibLinear][LibLinear][LibLinear][LibLinear][LibLinear][LibLinear][LibLinear][LibLinear][LibLinear][LibLinear][LibLinear][LibLinear][LibLinear][LibLinear][LibLinear][LibLinear][LibLinear][LibLinear]"
     ]
    },
    {
     "name": "stderr",
     "output_type": "stream",
     "text": [
      "C:\\Users\\arthu\\AppData\\Local\\Programs\\Python\\Python312\\Lib\\site-packages\\sklearn\\multiclass.py:90: UserWarning: Label not 360 is present in all training examples.\n",
      "  warnings.warn(\n"
     ]
    },
    {
     "name": "stdout",
     "output_type": "stream",
     "text": [
      "[LibLinear]"
     ]
    }
   ],
   "source": [
    "# Criando o modelo OneVsRestClassifier com LogisticRegression\n",
    "model = OneVsRestClassifier(LogisticRegression(C=0.5, class_weight='balanced', dual=False, fit_intercept=True,\n",
    "                                                         intercept_scaling=10, max_iter=150,\n",
    "                                                         penalty='l2', random_state=None, solver='liblinear', tol=1e-4,\n",
    "                                                         verbose=1))\n",
    "\n",
    "model.fit(X_train,y_train)\n",
    "y_pred_model = model.predict(X_test)"
   ]
  },
  {
   "cell_type": "markdown",
   "id": "203f3a85-ff1c-4082-b27f-a0f398a7a603",
   "metadata": {},
   "source": [
    "Após algumas tentativas, constatou-se que estes eram os melhores hiperparâmetros até então.\n",
    "Por falta de recursos computacionais e tempo, não foi possível executar com qualidade tecnicas como GridSearch e validação cruzada para melhorar a perfomance."
   ]
  },
  {
   "cell_type": "markdown",
   "id": "4be2bdfa-8c47-4197-b9c8-afef36d89013",
   "metadata": {},
   "source": [
    "### ------------------------------------------------------------------------------\n",
    "### 7. Avaliação do Modelo"
   ]
  },
  {
   "cell_type": "code",
   "execution_count": 48,
   "id": "95f3b752-0d8f-49dc-9097-641101200607",
   "metadata": {},
   "outputs": [
    {
     "name": "stdout",
     "output_type": "stream",
     "text": [
      "0.37806013046169995\n",
      "F1 Micro:  0.37806013046169995\n"
     ]
    },
    {
     "name": "stderr",
     "output_type": "stream",
     "text": [
      "C:\\Users\\arthu\\AppData\\Local\\Programs\\Python\\Python312\\Lib\\site-packages\\sklearn\\metrics\\_classification.py:1565: UndefinedMetricWarning: F-score is ill-defined and being set to 0.0 in labels with no true nor predicted samples. Use `zero_division` parameter to control this behavior.\n",
      "  _warn_prf(average, modifier, f\"{metric.capitalize()} is\", len(result))\n"
     ]
    },
    {
     "name": "stdout",
     "output_type": "stream",
     "text": [
      "F1 Macro:  0.12954894551552215\n"
     ]
    },
    {
     "name": "stderr",
     "output_type": "stream",
     "text": [
      "C:\\Users\\arthu\\AppData\\Local\\Programs\\Python\\Python312\\Lib\\site-packages\\sklearn\\metrics\\_classification.py:1565: UndefinedMetricWarning: Precision is ill-defined and being set to 0.0 in labels with no predicted samples. Use `zero_division` parameter to control this behavior.\n",
      "  _warn_prf(average, modifier, f\"{metric.capitalize()} is\", len(result))\n"
     ]
    },
    {
     "name": "stdout",
     "output_type": "stream",
     "text": [
      "Precision per label:  [0.05263158 0.         0.43159131 0.05732484 0.10438144 0.31475491\n",
      " 0.02       0.06818182 0.30520548 0.10227273 0.18666667 0.\n",
      " 0.15508021 0.         0.06451613 0.14356436 0.         0.04166667\n",
      " 0.07792208 0.42530283 0.15869981 0.         0.         0.08163265\n",
      " 0.07843137 0.         0.375      0.         0.07094134 0.25\n",
      " 0.10344828 0.         0.10541311 0.         0.         0.8\n",
      " 0.         0.         0.16666667 0.1129326  0.12297426 0.12244898\n",
      " 0.07445008 0.28536526 0.2        0.         0.23068117 0.35135135\n",
      " 0.         0.14285714 0.         0.         0.         0.\n",
      " 0.06708268 0.         0.         0.         0.09243697 0.\n",
      " 0.00934579 0.         0.05       0.13406293 0.         0.12895377\n",
      " 0.         0.16089299 0.46941489 0.22093023 0.22413793 0.\n",
      " 0.33333333 0.16352201 0.         0.48326216 0.03947368 0.08571429\n",
      " 0.11961016 0.14285714 0.00740741 0.03864734 0.09077913 0.11848958\n",
      " 0.         0.10144928 0.         0.         0.         0.12307692\n",
      " 0.16666667 0.16465257 0.         0.1719457  0.1761745  0.\n",
      " 0.04395604 0.06506024 0.37379002 0.21331257 0.10901468 0.13286713\n",
      " 0.         0.         0.13095238 1.         0.10224949 0.09358289\n",
      " 0.18282548 0.04736842 0.39047619 0.         0.08374384 0.13068182\n",
      " 0.68152121 0.1025641  0.         0.         0.         0.\n",
      " 0.05935252 0.         0.15185185 0.         0.06299213 0.05102041\n",
      " 0.10738255 0.11111111 0.         0.         0.06451613 0.\n",
      " 0.         1.         0.25714286 0.         0.1010929  0.35997502\n",
      " 0.09152542 0.         0.25874664 0.15878378 0.06293706 0.\n",
      " 0.         0.         0.05263158 0.         0.         0.1\n",
      " 0.         0.         0.09101655 0.12115385 0.         0.\n",
      " 0.         0.         0.16666667 0.         0.13541667 0.11824324\n",
      " 0.11824324 0.13756614 0.         0.         0.         0.56521739\n",
      " 0.         0.04761905 0.         0.02941176 0.02941176 0.\n",
      " 0.15789474 0.         0.14666667 0.         0.         0.28571429\n",
      " 0.13733906 0.         0.         0.09859155 0.04651163 0.0907563\n",
      " 0.09682081 0.23577236 0.         0.55613577 0.08201893 0.\n",
      " 0.         0.         0.         0.         0.18227147 0.\n",
      " 0.         0.         0.         0.27833753 0.         0.\n",
      " 0.44827586 0.         0.         0.         0.19618529 0.\n",
      " 0.         0.         0.         0.         0.         0.\n",
      " 0.         0.03603604 0.34696756 0.5        0.05       0.\n",
      " 0.26666667 0.03489362 0.09009009 0.         0.22758621 0.17486339\n",
      " 0.5        0.         0.         0.09034268 0.2275904  0.07511737\n",
      " 0.08920188 0.23214286 0.5        0.         0.21538462 0.\n",
      " 0.0212766  0.         0.02631579 0.         0.         0.\n",
      " 0.         0.         0.         0.         0.33333333 0.\n",
      " 0.0839599  0.         0.         0.13546798 0.25       1.\n",
      " 0.         0.         0.12592593 0.1381509  0.10344828 0.10985915\n",
      " 0.14018692 0.         0.03603604 0.23529412 0.         0.22222222\n",
      " 0.         0.07207207 0.         0.         0.14869721 0.08108108\n",
      " 0.         0.         0.10714286 0.02727273 0.         0.\n",
      " 0.03508772 0.10886076 0.05555556 0.         0.         0.26923077\n",
      " 0.39843883 0.20990637 0.20276498 0.02739726 0.46153846 0.05034551\n",
      " 0.         0.         0.         0.11219512 0.         0.46544008\n",
      " 0.         0.03957784 0.08661417 0.06521739 0.44730769 0.20152761\n",
      " 0.         0.         0.13389121 0.2416185  0.         0.10434783\n",
      " 0.         0.         0.         0.         0.25714286 0.06666667\n",
      " 0.         0.36681887 0.25866051 0.         0.         0.\n",
      " 0.04347826 0.06896552 0.05128205 0.22535211 0.21978022 0.\n",
      " 0.15715622 0.05555556 0.09377187 0.22292994 0.25       0.16949153\n",
      " 0.2972973  0.05607477 0.17751885 0.05485545 0.         0.\n",
      " 0.43112571 0.11290323 0.         0.03174603 0.         0.\n",
      " 0.         0.         0.         0.40439707 0.         0.50698856\n",
      " 0.03846154 0.05882353 0.08955224 0.         0.29475363 0.16666667\n",
      " 0.         0.57480315]\n"
     ]
    },
    {
     "name": "stderr",
     "output_type": "stream",
     "text": [
      "C:\\Users\\arthu\\AppData\\Local\\Programs\\Python\\Python312\\Lib\\site-packages\\sklearn\\metrics\\_classification.py:1565: UndefinedMetricWarning: Recall is ill-defined and being set to 0.0 in labels with no true samples. Use `zero_division` parameter to control this behavior.\n",
      "  _warn_prf(average, modifier, f\"{metric.capitalize()} is\", len(result))\n"
     ]
    },
    {
     "name": "stdout",
     "output_type": "stream",
     "text": [
      "Recall per label:  [0.02380952 0.         0.75255973 0.11538462 0.38942308 0.71509327\n",
      " 0.05263158 0.06122449 0.69021066 0.13043478 0.46666667 0.\n",
      " 0.63043478 0.         0.08163265 0.42028986 0.         0.17647059\n",
      " 0.36734694 0.79065888 0.55704698 0.         0.         0.28571429\n",
      " 0.28571429 0.         1.         0.         0.30232558 0.68181818\n",
      " 0.06976744 0.         0.37563452 0.         0.         0.5\n",
      " 0.         0.         0.08333333 0.38993711 0.42574257 0.3030303\n",
      " 0.32432432 0.63271939 0.16666667 0.         0.7661597  0.46428571\n",
      " 0.         0.14285714 0.         0.         0.         0.\n",
      " 0.2654321  0.         0.         0.         0.30555556 0.\n",
      " 0.02272727 0.         0.12068966 0.46445498 0.         0.43089431\n",
      " 0.         0.54145078 0.706      0.26760563 0.63414634 0.\n",
      " 0.16666667 0.55319149 0.         0.67852998 0.07142857 0.09677419\n",
      " 0.43926247 0.08333333 0.01       0.06722689 0.39318885 0.50980392\n",
      " 0.         0.28       0.         0.         0.         0.2\n",
      " 0.22580645 0.5923913  0.         0.43181818 0.62874251 0.\n",
      " 0.1754386  0.27979275 0.70177074 0.65238095 0.46428571 0.37254902\n",
      " 0.         0.         0.35483871 0.33333333 0.36764706 0.33018868\n",
      " 0.6        0.1512605  0.79099678 0.         0.17346939 0.38333333\n",
      " 0.7249248  0.2        0.         0.         0.         0.\n",
      " 0.18857143 0.         0.37962963 0.         0.14285714 0.11363636\n",
      " 0.28070175 0.18181818 0.         0.         0.07142857 0.\n",
      " 0.         0.25       0.28125    0.         0.46599496 0.69583585\n",
      " 0.24545455 0.         0.65530672 0.44761905 0.19354839 0.\n",
      " 0.         0.         0.05714286 0.         0.         0.1978022\n",
      " 0.         0.         0.37019231 0.52066116 0.         0.\n",
      " 0.         0.         0.25       0.         0.44827586 0.31531532\n",
      " 0.32110092 0.39393939 0.         0.         0.         0.54166667\n",
      " 0.         0.09375    0.         0.06666667 0.06666667 0.\n",
      " 0.3        0.         0.37931034 0.         0.         0.13333333\n",
      " 0.48484848 0.         0.         0.25       0.03846154 0.37762238\n",
      " 0.36612022 0.65909091 0.         0.82879377 0.25242718 0.\n",
      " 0.         0.         0.         0.         0.52416357 0.\n",
      " 0.         0.         0.         0.66466165 0.         0.\n",
      " 0.38235294 0.         0.         0.         0.49541284 0.\n",
      " 0.         0.         0.         0.         0.         0.\n",
      " 0.         0.12121212 0.69491525 0.30769231 0.02439024 0.\n",
      " 0.10526316 0.16872428 0.23809524 0.         0.61111111 0.33684211\n",
      " 0.125      0.         0.         0.33142857 0.61443806 0.21333333\n",
      " 0.22093023 0.61032864 0.46666667 0.         0.56756757 0.\n",
      " 0.03030303 0.         0.01694915 0.         0.         0.\n",
      " 0.         0.         0.         0.         0.14285714 0.\n",
      " 0.39067055 0.         0.         0.49401198 0.33333333 1.\n",
      " 0.         0.         0.45333333 0.53719008 0.32142857 0.42391304\n",
      " 0.30612245 0.         0.05970149 0.37037037 0.         0.28571429\n",
      " 0.         0.25806452 0.         0.         0.56581197 0.3\n",
      " 0.         0.         0.125      0.08571429 0.         0.\n",
      " 0.06060606 0.29655172 0.1        0.         0.         0.29166667\n",
      " 0.69323885 0.65627951 0.62621723 0.08333333 0.375      0.2\n",
      " 0.         0.         0.         0.32857143 0.         0.79524214\n",
      " 0.         0.12820513 0.2704918  0.09090909 0.716133   0.54531002\n",
      " 0.         0.         0.35036496 0.67202572 0.         0.24489796\n",
      " 0.         0.         0.         0.         0.40909091 0.125\n",
      " 0.         0.71513353 0.67878788 0.         0.         0.\n",
      " 0.15384615 0.07692308 0.16129032 0.29090909 0.45801527 0.\n",
      " 0.6199262  0.08163265 0.41744548 0.625      0.25       0.43478261\n",
      " 0.47826087 0.2        0.61666667 0.2202381  0.         0.\n",
      " 0.72618316 0.18421053 0.         0.14285714 0.         0.\n",
      " 0.         0.         0.         0.79658793 0.         0.79324056\n",
      " 0.04166667 0.2        0.15789474 0.         0.64084778 0.67857143\n",
      " 0.         0.60330579]\n",
      "Hamming Loss:  0.020176293344122895\n",
      "Jaccard Similarity (Micro):  0.23309133560501116\n"
     ]
    },
    {
     "name": "stderr",
     "output_type": "stream",
     "text": [
      "C:\\Users\\arthu\\AppData\\Local\\Programs\\Python\\Python312\\Lib\\site-packages\\sklearn\\metrics\\_classification.py:1565: UndefinedMetricWarning: Jaccard is ill-defined and being set to 0.0 in labels with no true or predicted samples. Use `zero_division` parameter to control this behavior.\n",
      "  _warn_prf(average, modifier, f\"{metric.capitalize()} is\", len(result))\n"
     ]
    },
    {
     "name": "stdout",
     "output_type": "stream",
     "text": [
      "Jaccard Similarity (Macro):  0.07936257209883284\n",
      "Average Precision Score:  0.1708613997433204\n",
      "ROC AUC Score (Micro):  0.7962585866740471\n"
     ]
    },
    {
     "name": "stderr",
     "output_type": "stream",
     "text": [
      "C:\\Users\\arthu\\AppData\\Local\\Programs\\Python\\Python312\\Lib\\site-packages\\sklearn\\metrics\\_ranking.py:379: UndefinedMetricWarning: Only one class is present in y_true. ROC AUC score is not defined in that case.\n",
      "  warnings.warn(\n",
      "C:\\Users\\arthu\\AppData\\Local\\Programs\\Python\\Python312\\Lib\\site-packages\\sklearn\\metrics\\_ranking.py:379: UndefinedMetricWarning: Only one class is present in y_true. ROC AUC score is not defined in that case.\n",
      "  warnings.warn(\n",
      "C:\\Users\\arthu\\AppData\\Local\\Programs\\Python\\Python312\\Lib\\site-packages\\sklearn\\metrics\\_ranking.py:379: UndefinedMetricWarning: Only one class is present in y_true. ROC AUC score is not defined in that case.\n",
      "  warnings.warn(\n",
      "C:\\Users\\arthu\\AppData\\Local\\Programs\\Python\\Python312\\Lib\\site-packages\\sklearn\\metrics\\_ranking.py:379: UndefinedMetricWarning: Only one class is present in y_true. ROC AUC score is not defined in that case.\n",
      "  warnings.warn(\n",
      "C:\\Users\\arthu\\AppData\\Local\\Programs\\Python\\Python312\\Lib\\site-packages\\sklearn\\metrics\\_ranking.py:379: UndefinedMetricWarning: Only one class is present in y_true. ROC AUC score is not defined in that case.\n",
      "  warnings.warn(\n",
      "C:\\Users\\arthu\\AppData\\Local\\Programs\\Python\\Python312\\Lib\\site-packages\\sklearn\\metrics\\_ranking.py:379: UndefinedMetricWarning: Only one class is present in y_true. ROC AUC score is not defined in that case.\n",
      "  warnings.warn(\n",
      "C:\\Users\\arthu\\AppData\\Local\\Programs\\Python\\Python312\\Lib\\site-packages\\sklearn\\metrics\\_ranking.py:379: UndefinedMetricWarning: Only one class is present in y_true. ROC AUC score is not defined in that case.\n",
      "  warnings.warn(\n",
      "C:\\Users\\arthu\\AppData\\Local\\Programs\\Python\\Python312\\Lib\\site-packages\\sklearn\\metrics\\_ranking.py:379: UndefinedMetricWarning: Only one class is present in y_true. ROC AUC score is not defined in that case.\n",
      "  warnings.warn(\n",
      "C:\\Users\\arthu\\AppData\\Local\\Programs\\Python\\Python312\\Lib\\site-packages\\sklearn\\metrics\\_ranking.py:379: UndefinedMetricWarning: Only one class is present in y_true. ROC AUC score is not defined in that case.\n",
      "  warnings.warn(\n",
      "C:\\Users\\arthu\\AppData\\Local\\Programs\\Python\\Python312\\Lib\\site-packages\\sklearn\\metrics\\_ranking.py:379: UndefinedMetricWarning: Only one class is present in y_true. ROC AUC score is not defined in that case.\n",
      "  warnings.warn(\n",
      "C:\\Users\\arthu\\AppData\\Local\\Programs\\Python\\Python312\\Lib\\site-packages\\sklearn\\metrics\\_ranking.py:379: UndefinedMetricWarning: Only one class is present in y_true. ROC AUC score is not defined in that case.\n",
      "  warnings.warn(\n",
      "C:\\Users\\arthu\\AppData\\Local\\Programs\\Python\\Python312\\Lib\\site-packages\\sklearn\\metrics\\_ranking.py:379: UndefinedMetricWarning: Only one class is present in y_true. ROC AUC score is not defined in that case.\n",
      "  warnings.warn(\n",
      "C:\\Users\\arthu\\AppData\\Local\\Programs\\Python\\Python312\\Lib\\site-packages\\sklearn\\metrics\\_ranking.py:379: UndefinedMetricWarning: Only one class is present in y_true. ROC AUC score is not defined in that case.\n",
      "  warnings.warn(\n",
      "C:\\Users\\arthu\\AppData\\Local\\Programs\\Python\\Python312\\Lib\\site-packages\\sklearn\\metrics\\_ranking.py:379: UndefinedMetricWarning: Only one class is present in y_true. ROC AUC score is not defined in that case.\n",
      "  warnings.warn(\n",
      "C:\\Users\\arthu\\AppData\\Local\\Programs\\Python\\Python312\\Lib\\site-packages\\sklearn\\metrics\\_ranking.py:379: UndefinedMetricWarning: Only one class is present in y_true. ROC AUC score is not defined in that case.\n",
      "  warnings.warn(\n",
      "C:\\Users\\arthu\\AppData\\Local\\Programs\\Python\\Python312\\Lib\\site-packages\\sklearn\\metrics\\_ranking.py:379: UndefinedMetricWarning: Only one class is present in y_true. ROC AUC score is not defined in that case.\n",
      "  warnings.warn(\n",
      "C:\\Users\\arthu\\AppData\\Local\\Programs\\Python\\Python312\\Lib\\site-packages\\sklearn\\metrics\\_ranking.py:379: UndefinedMetricWarning: Only one class is present in y_true. ROC AUC score is not defined in that case.\n",
      "  warnings.warn(\n",
      "C:\\Users\\arthu\\AppData\\Local\\Programs\\Python\\Python312\\Lib\\site-packages\\sklearn\\metrics\\_ranking.py:379: UndefinedMetricWarning: Only one class is present in y_true. ROC AUC score is not defined in that case.\n",
      "  warnings.warn(\n",
      "C:\\Users\\arthu\\AppData\\Local\\Programs\\Python\\Python312\\Lib\\site-packages\\sklearn\\metrics\\_ranking.py:379: UndefinedMetricWarning: Only one class is present in y_true. ROC AUC score is not defined in that case.\n",
      "  warnings.warn(\n",
      "C:\\Users\\arthu\\AppData\\Local\\Programs\\Python\\Python312\\Lib\\site-packages\\sklearn\\metrics\\_ranking.py:379: UndefinedMetricWarning: Only one class is present in y_true. ROC AUC score is not defined in that case.\n",
      "  warnings.warn(\n"
     ]
    },
    {
     "name": "stdout",
     "output_type": "stream",
     "text": [
      "ROC AUC Score (Macro):  nan\n"
     ]
    },
    {
     "name": "stderr",
     "output_type": "stream",
     "text": [
      "C:\\Users\\arthu\\AppData\\Local\\Programs\\Python\\Python312\\Lib\\site-packages\\sklearn\\metrics\\_classification.py:3001: UserWarning: The y_pred values do not sum to one. Make sure to pass probabilities.\n",
      "  warnings.warn(\n"
     ]
    },
    {
     "name": "stdout",
     "output_type": "stream",
     "text": [
      "Log Loss:  51.38854160071009\n",
      "Subset Accuracy:  0.004525976214550532\n"
     ]
    }
   ],
   "source": [
    "# Avaliação das métricas\n",
    "\n",
    "print(\"F1 Micro: \", f1_score(y_test, y_pred_model, average='micro'))\n",
    "print(\"F1 Macro: \", f1_score(y_test, y_pred_model, average='macro'))\n",
    "print(\"Precision per label: \", precision_score(y_test, y_pred_model, average=None))\n",
    "print(\"Recall per label: \", recall_score(y_test, y_pred_model, average=None))\n",
    "print(\"Hamming Loss: \", hamming_loss(y_test, y_pred_model))\n",
    "print(\"Jaccard Similarity (Micro): \", jaccard_score(y_test, y_pred_model, average='micro'))\n",
    "print(\"Jaccard Similarity (Macro): \", jaccard_score(y_test, y_pred_model, average='macro'))\n",
    "print(\"Average Precision Score: \", average_precision_score(y_test, y_pred_model, average='micro'))\n",
    "print(\"ROC AUC Score (Micro): \", roc_auc_score(y_test, y_pred_model, average='micro'))\n",
    "print(\"ROC AUC Score (Macro): \", roc_auc_score(y_test, y_pred_model, average='macro'))\n",
    "print(\"Log Loss: \", log_loss(y_test, y_pred_model))\n",
    "print(\"Subset Accuracy: \", accuracy_score(y_test, y_pred_model))"
   ]
  },
  {
   "cell_type": "markdown",
   "id": "07aec286-a69e-40ee-846d-515c5fec78f9",
   "metadata": {},
   "source": [
    "A avaliação das métricas do modelo mostra que, apesar de alguma capacidade de discriminação, o desempenho ainda não é ideal para a classificação multilabel de gêneros de filmes.\n",
    "Métricas Avaliadas:\n",
    "\n",
    "    F1 Micro: 0.378\n",
    "    A F1 Micro avalia a média das F1 scores em todas as classes de forma global. Esse valor sugere que o modelo tem uma capacidade limitada de distinguir corretamente os rótulos para diferentes amostras.\n",
    "\n",
    "    F1 Macro: 0.129\n",
    "    A F1 Macro considera a média das F1 scores em cada classe, sem considerar o número de amostras em cada classe. O valor baixo indica que o modelo tem um desempenho inconsistente em relação a classes menos frequentes.\n",
    "\n",
    "    Hamming Loss: 0.020\n",
    "    O Hamming Loss representa a fração de rótulos incorretos no modelo. Este valor é relativamente baixo, sugerindo que o modelo não está cometendo muitos erros graves, mas ainda assim não está perfeito.\n",
    "\n",
    "    Jaccard Similarity (Micro e Macro)\n",
    "    A Jaccard Similarity é uma boa métrica para problemas multilabel, indicando a sobreposição de rótulos preditos com os reais. A Jaccard Micro de 0.233 é razoável, mas a Macro é mais baixa, indicando que a diversidade entre as classes está prejudicada.\n",
    "\n",
    "    Average Precision Score: 0.17\n",
    "    A média da precisão das classes é também baixa, o que sugere que o modelo não está gerando muitas predições corretas para todas as classes.\n",
    "\n",
    "    ROC AUC Score (Micro): 0.796\n",
    "    O ROC AUC Micro está razoavelmente bom, indicando que o modelo é capaz de discriminar entre as classes em termos de probabilidade, mas com espaço para melhoria.\n",
    "\n",
    "    Log Loss: 51.39\n",
    "    O Log Loss é bastante alto, indicando que o modelo tem um desempenho ruim em termos de previsões probabilísticas. Isso sugere que o modelo está gerando previsões muito distantes do valor real.\n",
    "\n",
    "    Subset Accuracy: 0.0045\n",
    "    A Subset Accuracy, que avalia se todas as predições multilabel são exatas, é muito baixa, indicando que o modelo tem dificuldades em acertar todas as classes simultaneamente."
   ]
  },
  {
   "cell_type": "markdown",
   "id": "e443c25b-2a62-4e26-b5fd-68c2712cd1f7",
   "metadata": {},
   "source": [
    "Estratégias de Melhoria:\n",
    "1. Ajustes no Modelo\n",
    "\n",
    "    Aumentar o número de iterações (max_iter): O modelo pode não estar convergindo corretamente, especialmente em problemas de alta dimensionalidade.\n",
    "    Tentar aumentar o max_iter para 500 ou 1000 pode garantir que o modelo tenha tempo suficiente para convergir.\n",
    "\n",
    "    Ajustar o valor de C: O valor de C=0.5 pode ser pequeno. Talvez valores como C=1 ou C=10 para equilibrar melhor a regularização.\n",
    "\n",
    "2. Melhoria nos Dados\n",
    "\n",
    "    Aumentar o conjunto de treinamento: Se possível, aumente o conjunto de dados, seja coletando mais amostras ou utilizando técnicas de data augmentation. Isso pode ajudar o modelo a aprender mais variações dos gêneros.\n",
    "\n",
    "    Limpeza de dados: Verifique se há rótulos inconsistentes ou rótulos dominantes (como mencionado anteriormente sobre rótulos que aparecem em todas as amostras). Certifique-se de que os dados de treinamento sejam representativos.\n",
    "\n",
    "    Pré-processamento aprimorado: Melhorar o pré-processamento de texto (como stemming, lematização, ou extração de n-gramas) pode proporcionar uma representação mais eficiente do texto.\n",
    "\n",
    "3. Revisão da Estratégia de Balanceamento\n",
    "\n",
    "    Uso de técnicas de resampling: Técnicas como SMOTE ou undersampling para lidar com classes desbalanceadas. (Não Houve tempo o sufiente)\n",
    "4. Tuning e Validação Cruzada\n",
    "\n",
    "    GridSearchCV ou RandomizedSearchCV: Realizar uma busca em grade de hiperparâmetros  para encontrar a melhor configuração para o modelo. (Não Houve tempo o sufiente)\n",
    "\n",
    "    Validação cruzada: Use validação cruzada (como K-folds) para garantir que o modelo não esteja sobreajustado e tem um desempenho consistente em diferentes subconjuntos dos dados. (Não Houve tempo o sufiente)"
   ]
  },
  {
   "cell_type": "code",
   "execution_count": 49,
   "id": "5f8167ee-b89b-47aa-9e03-439b92093621",
   "metadata": {},
   "outputs": [
    {
     "name": "stdout",
     "output_type": "stream",
     "text": [
      "[0 0 1 0 0 1 0 0 0 0 0 0 0 0 0 0 0 0 0 0 0 0 0 0 0 0 0 0 0 0 0 0 0 0 0 0 0\n",
      " 0 0 0 0 0 0 0 0 0 0 0 0 0 0 0 0 0 0 0 0 0 0 0 0 0 0 0 0 0 0 0 0 0 0 0 0 0\n",
      " 0 0 1 0 0 0 0 0 0 0 0 0 0 0 0 0 0 1 0 0 0 0 0 0 1 1 0 0 0 0 0 0 1 1 0 0 0\n",
      " 0 0 0 0 0 0 0 0 0 0 0 0 0 0 0 0 0 0 0 0 0 0 0 0 0 0 0 0 0 0 0 0 0 0 0 0 0\n",
      " 0 0 0 0 1 0 0 0 0 0 0 0 0 0 0 0 0 0 0 0 0 0 0 0 0 0 0 0 0 0 0 0 0 0 0 0 0\n",
      " 0 0 0 0 0 0 0 0 0 0 0 0 0 0 0 0 0 0 0 0 0 0 0 0 0 0 0 0 0 0 0 0 0 0 0 0 0\n",
      " 0 0 0 0 0 0 0 0 0 0 0 0 0 1 0 0 0 0 0 0 0 0 0 0 0 0 0 0 0 0 0 0 0 1 0 0 0\n",
      " 0 0 0 0 0 0 0 0 0 0 0 0 0 0 0 0 0 0 0 0 0 0 0 0 0 0 0 0 0 0 0 0 0 0 0 0 0\n",
      " 0 0 0 0 0 0 0 0 0 0 0 0 0 0 0 0 0 0 0 0 0 0 0 0 0 0 0 0 1 0 1 0 0 0 0 0 1\n",
      " 0 0 0 0 0 0 0 0 0 1 0 0 0 0 0 0 0 0 0 0 0 0 0 0 0 0 0 0 0]\n",
      "('Action', 'Action/Adventure', 'Comedy Thriller', 'Costume drama', 'Crime Fiction', 'Crime Thriller', 'Detective', 'Detective fiction', 'Film adaptation', 'Mystery', 'Period piece', 'Steampunk', 'Stop motion', 'Suspense', 'Thriller')\n"
     ]
    }
   ],
   "source": [
    "print(y_pred_model[13])\n",
    "\n",
    "print(mlb.inverse_transform( y_pred_model)[13])"
   ]
  },
  {
   "cell_type": "markdown",
   "id": "205dc5d2-9ab3-44d2-b9b7-03dfee850488",
   "metadata": {},
   "source": [
    "### ------------------------------------------------------------------------------\n",
    "### 8. Pipeline para Predição"
   ]
  },
  {
   "cell_type": "code",
   "execution_count": 58,
   "id": "8175eb8c-4246-477c-bceb-d70766840d13",
   "metadata": {},
   "outputs": [
    {
     "name": "stdout",
     "output_type": "stream",
     "text": [
      "\n",
      "Título: Stratosphere Girl\n",
      "Sinopse: Belgian teenager, Angela , who is skilled at drawing, meets, and subsequently falls in love, with an attractive Japanese DJ. Encouraged by him, she goes to Japan to work at an exclusive club for rich businessmen, who like to meet with young blonde women. From the start, the film is surreal with unique characters, clear and sharp cinematography, and slow panning camera work. Manga drawings are also used to enhance the plot and ambiance. Angela seeks work at the aforementioned club and, after having been begrudgingly let in, she is met with derision by the other girls working there. However, despite having spurned some of the other girls, she soon proves to be a favourite among the patrons by pretending to be a Lolita-style 15-year-old to please the businessmen. The plot has a sinister undertone of the possibility of murder of a girl, Larissa, whom Angela has replaced. As the film goes on, we learn Larissa was possibly murdered, not by Japanese men in search of sick sexual fantasy fulfillment, but at the envious and jealous hands of her workmates. In the last scenes we learn Larissa lives and, furthermore, this is when Angela is heralded with the contract to be a Manga artist.\n",
      "Gêneros previstos: ('Erotica', 'Indie', 'Japanese Movies', 'Romance Film', 'Romantic drama', 'Silent film', 'World cinema')\n"
     ]
    }
   ],
   "source": [
    "# ------------------------------------------------------------------------------\n",
    "# Pipeline para Predição\n",
    "\n",
    "def predict_genres(summary):\n",
    "    \"\"\"\n",
    "    Função para predizer os gêneros de um filme com base na sua sinopse.\n",
    "    \"\"\"\n",
    "    summary_clean = preprocess_text(summary)\n",
    "    summary_stemming = plot_stemming(summary_clean)\n",
    "    summary_vectorized = tfidf_vectorizer.transform([summary_stemming])\n",
    "    prediction = model.predict(summary_vectorized)\n",
    "    return mlb.inverse_transform(prediction)[0]\n",
    "\n",
    "# Teste com uma sinopse aleatória\n",
    "random_movie = random.randint(0, len(data) - 1)\n",
    "print(f\"\\nTítulo: {data.iloc[random_movie]['title']}\")\n",
    "print(\"Sinopse:\", data.iloc[random_movie]['summary'])\n",
    "print(\"Gêneros previstos:\", predict_genres(data.iloc[random_movie]['summary']))"
   ]
  },
  {
   "cell_type": "markdown",
   "id": "5797d1fb-6705-413b-94f2-71c9c77fb012",
   "metadata": {},
   "source": [
    "## Inserir a sinopse manualmente"
   ]
  },
  {
   "cell_type": "code",
   "execution_count": 59,
   "id": "a070a342-407d-4da4-8e44-07cba14ee75b",
   "metadata": {},
   "outputs": [
    {
     "name": "stdin",
     "output_type": "stream",
     "text": [
      "Digite a sinopse do filme:  Walter Mitty (Ben Stiller), an employee at Life magazine, spends day after monotonous day developing photos for the publication. To escape the tedium, Walter inhabits a world of exciting daydreams in which he is the undeniable hero. Walter fancies a fellow employee named Cheryl (Kristen Wiig) and would love to date her, but he feels unworthy. However, he gets a chance to have a real adventure when Life's new owners send him on a mission to obtain the perfect photo for the final print issue.\n"
     ]
    },
    {
     "name": "stdout",
     "output_type": "stream",
     "text": [
      "Gêneros previstos: ('Adventure', 'Comedy', 'Comedy film', 'Fantasy Comedy', 'Romance Film', 'Romantic comedy', 'Romantic drama', 'Workplace Comedy')\n"
     ]
    }
   ],
   "source": [
    "# Solicitar a sinopse manualmente\n",
    "summary_input = input(\"Digite a sinopse do filme: \")\n",
    "\n",
    "# Fazer a predição com a sinopse inserida\n",
    "predicted_genres = predict_genres(summary_input)\n",
    "\n",
    "# Exibir os gêneros previstos\n",
    "print(f\"Gêneros previstos: {predicted_genres}\")"
   ]
  },
  {
   "cell_type": "markdown",
   "id": "c0aa6d1c-766d-4236-b1ad-7cf1dc61cc30",
   "metadata": {},
   "source": [
    "Conclusões Finais:\n",
    "\n",
    "O modelo de classificação multilabel de gêneros de filmes implementado, baseado no OneVsRestClassifier com LogisticRegression, apresentou um desempenho razoável nas métricas de avaliação, mas ainda está longe de ser otimizado."
   ]
  }
 ],
 "metadata": {
  "kernelspec": {
   "display_name": "Python 3 (ipykernel)",
   "language": "python",
   "name": "python3"
  },
  "language_info": {
   "codemirror_mode": {
    "name": "ipython",
    "version": 3
   },
   "file_extension": ".py",
   "mimetype": "text/x-python",
   "name": "python",
   "nbconvert_exporter": "python",
   "pygments_lexer": "ipython3",
   "version": "3.12.0"
  }
 },
 "nbformat": 4,
 "nbformat_minor": 5
}
